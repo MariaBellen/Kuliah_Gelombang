{
 "cells": [
  {
   "cell_type": "markdown",
   "metadata": {},
   "source": [
    "# Kuliah #2\n",
    "# Gerak Gelombang\n",
    "\n",
    "Materi Gerak Gelombang\n",
    "- Pembangkitan Gelombang tali\n",
    "- Gelombang Sinusoidal\n",
    "- Persamaan diferensial gelombang\n",
    "- Gelombang yang tidak sinusoidal\n",
    "- Kecepatan Grup dan Kecepatan fase\n",
    "- Superposisi Gelombang\n",
    "\n",
    "## Pembangkitan gelombang pada tali\n",
    "\n",
    "Contoh paling sederhana dari fenomena gelombang adalah rambatan gelombang pada tali. Ada banyak cara untuk menghasilkan gelombang pada tali ini, diantaranya kalau dibukunya Hirose, halaman 30 (Buku edisi 2), adalah dengan menghubungkan tali dengan masa yang digantungkan pada pegas. Gambar dibawah ini adalah contoh lain, hanya untuk ilustrasi saja.\n",
    "![Gel_Tali](http://hyperphysics.phy-astr.gsu.edu/hbase/Class/PhSciLab/imglab/Stringresw.gif)\n",
    "Ini contoh yang sangat sederhana, bahwa gelombang memerlukan medium untuk merambat. Dalam gambar terlihat bahwa sumber getar (osilatornya) adalah mesin yang digetarkan dengan frekuensi 60 Hz, sementara mediumnya adalah tali. Representasi getaran di sumber akan tersebar melalui mediumnya. Jadi, mengetahui karakteristik gelombang, kita bisa \"memperkirakan\" karakteristik sumbernya.\n",
    "\n",
    "Parameter gelombang yang lain adalah panjang gelombangnya, biasa disimbolkan dengan lambda ($\\lambda$), sering disebutkan juga sebagai periode spasial. Pada medim (tali), gelombang akan bergerak dengan kecepatan $c_w$. Dari analisis dimensional, hubungan antara kecepatan, frekuensi dan panjang gelombang didapatkan hubungan:\n",
    "<div><center>$v \\lambda = c_w$<center></div>\n",
    "\n",
    "Gelombang suara manusia yang kita dengar juga fenomena yang sama dengan gelombang mekanik pada tali, jadi terjadi pembangkitan getaran di tenggorokan, melalui medium udara gelombang tadi merambat, sampai ketelinga kita. \n",
    "\n",
    "## Gelombang Sinusoidal (Gelombang Harmonik)\n",
    "Gelombang sinusoid yang memiliki amplitudo $A$, frekuensi $f$, siklus per detik (Hertz) dan pajang gelombang $\\lambda$ (m) yang merambat pada arah $x$ positif dengan kecepatan $c_w$ dapat dinyatakan dengan:\n",
    "<div><center>$ A \\sin (\\frac{2 \\pi}{\\lambda}(x-c_w \\tau))$ </center></div>"
   ]
  },
  {
   "cell_type": "code",
   "execution_count": null,
   "metadata": {},
   "outputs": [],
   "source": []
  },
  {
   "cell_type": "code",
   "execution_count": null,
   "metadata": {},
   "outputs": [],
   "source": []
  }
 ],
 "metadata": {
  "kernelspec": {
   "display_name": "Python 3",
   "language": "python",
   "name": "python3"
  },
  "language_info": {
   "codemirror_mode": {
    "name": "ipython",
    "version": 3
   },
   "file_extension": ".py",
   "mimetype": "text/x-python",
   "name": "python",
   "nbconvert_exporter": "python",
   "pygments_lexer": "ipython3",
   "version": "3.5.3"
  }
 },
 "nbformat": 4,
 "nbformat_minor": 2
}
