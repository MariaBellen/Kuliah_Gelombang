{
 "cells": [
  {
   "cell_type": "markdown",
   "metadata": {},
   "source": [
    "# Gelombang suara melalui medium padat, cair dan gas\n",
    "\n",
    "Gelombang longitudinal pada medium elastik atau pada benda elastik disebut dengan gelombang suara. Yang paling umum kita alami dalam kehidupan sehari-hari adalah gelombang suara yang merambat melalui udara. Namun sejatinya, gelombang ini dapat merambat melalui medium padat maupun cair.\n",
    "Gelombang suara berasosiasi dengan gerak kompresional molekul udara searah dengan arah gerakannya. Hal ini mirip sekali dengan garak longitudinal yang merambat melalui susunan masa-pegas seperti dijelaskan pada bab sebelumnya.\n",
    "\n",
    "Gelombang gempabumi yang merambat melalui bumi terdiri atas 2 jenis getaran, yang berasosiasi dengan gelombang longitudinal yang merambat terlebih dahulu, diiringi dengan gelombang transversal yang merambat kemudian.\n",
    "\n",
    "<div class=\"alert alert-info\" style=\"font-size:12pt; margin-top:20px\">  Learning outcome dari kuliah ini adalah mahasiswa mampu mendefinisikan kecepatan gerak gelombang suara melalui medium padat, cair dan gas, mampu menjelaskan bagaimana kecepatan tersebut dapat dihasilkan/diturunkan serta mengenal bebeapa contoh dalam kehidupan sehari-hari gelombang suara yang merambat melalui medium</del>. \n",
    "</div>\n",
    "\n",
    "## Materi dalam pertemuan minggu ke 5 \n",
    "- Kecepatan rambat gelombang suara melalui batang besi\n",
    "- Penurunan kecepatan rambat gelombang suara melalui batang besi\n",
    "- gelombang suara di cairan\n",
    "- Gelombang suara pada gas\n",
    "- Intensitas gelombang suara pada medium gas\n",
    "\n",
    "Berikut gambar ilustrasi dari feymanlectures.caltech.edu\n",
    "\n",
    "![Feyman_Lect](http://www.feynmanlectures.caltech.edu/img/FLP_I/f47-00/f47-00.jpg)"
   ]
  },
  {
   "cell_type": "markdown",
   "metadata": {},
   "source": [
    "## Kecepatan suara melalui batang besi\n",
    "\n",
    "Pada pertemuan sebelumnya telah diperoleh hubungan antara kecepatan dengan modulus elastik dan densitas berikut\n",
    "<img src=\"https://latex.codecogs.com/svg.latex?\\Large&space;c_w = \\sqrt{\\frac{modulus\\ elastik}{densitas}}\" title=\"fungsi sin\" />\n",
    "\n",
    "![solid_rod](https://camo.githubusercontent.com/50f02080ee376542f3af5ca782440ed1b8b7280e/68747470733a2f2f7261772e6769746875622e636f6d2f6c656579742f506879736963732f6d61737465722f382e3031253230436c6173736963616c2532304d656368616e6963732f696d616765732f4c32362f30332e706e67)"
   ]
  },
  {
   "cell_type": "markdown",
   "metadata": {},
   "source": [
    "Hukum Hooke untuk batang besi diatas, dengan panjang mula-mula $l (m)$ dengan luas penampang batang $A$, mendapatkan gaya sebesar $F$ sehingga bertambah panjang sebesar $\\Delta l$ memiliki hubungan\n",
    "<img src=\"https://latex.codecogs.com/svg.latex?\\Large&space;F=konstanta \\frac{\\Delta l}{l}\" title=\"fungsi sin\" />\n",
    "dengan $konstanta$ memiliki satuan gaya ($N$)\n",
    "\n",
    "Namun coba bayangkan andaikata luas penampang besi tersebut diperbesar, apa yang terjadi? Tentusaja gaya yang lebih besar harus diberikan agar menghasilkan pertambahan panjang yang sama, ya khan? Untuk itu, agar persamaan tersebut berlaku tanpa tergantung dengan ukuran luas penampang batangnya, persamaan diatas perlu dibagi dengan luas penampang, $A$, menjadi\n",
    "\n",
    "<img src=\"https://latex.codecogs.com/svg.latex?\\Large&space;\\frac{F}{A}=Y \\frac{\\Delta l}{l}\" title=\"fungsi sin\" />\n",
    "dengan $Y$ memiliki satuan gaya ($N/m^2$). $Y$ dikenal dengan Modulus Young.\n",
    "\n",
    "Dengan demikian, maka kecepatan rambat gelombang suara melalui batang besi tersebut adalah:\n",
    "<img src=\"https://latex.codecogs.com/svg.latex?\\Large&space;c_w = \\sqrt{\\frac{modulus\\ elastik}{densitas}}=\\sqrt{\\frac{Y}{\\rho_v}}\" title=\"fungsi sin\" />\n",
    "\n",
    "Densitas energi dan densitas momentum dirumuskan \n",
    "<img src=\"https://latex.codecogs.com/svg.latex?\\Large&space;densitas\\ energi = \\frac{1}{2}\\rho_v \\omega^2 \\psi_0^2 (J/m^2)\" title=\"fungsi sin\" />\n",
    "<img src=\"https://latex.codecogs.com/svg.latex?\\Large&space;densitas\\ momentum = \\frac{1}{2} \\frac{\\rho_v \\omega^2 \\psi_0^2}{c_w} (N.sec/m^3)\" title=\"fungsi sin\" />"
   ]
  },
  {
   "cell_type": "markdown",
   "metadata": {},
   "source": [
    "Energi gelombang per-satuan panjang batang dirumuskan\n",
    "<img src=\"https://latex.codecogs.com/svg.latex?\\Large&space;\\frac{1}{2} \\rho_v \\omega^2 \\psi_0^2 A (J/m)\" title=\"fungsi sin\" />\n",
    "\n",
    "Sedangkan intensitas gelombang dirumuskan \n",
    "<img src=\"https://latex.codecogs.com/svg.latex?\\Large&space;\\frac{1}{2} \\rho_v \\omega^2 \\psi_0^2 c_w (W/m^2)\" title=\"fungsi sin\" />"
   ]
  },
  {
   "cell_type": "markdown",
   "metadata": {},
   "source": [
    "Tabel beberapa jenis benda padat dan nilai modulus elastik, densitas dan kecepatan rambatan suara melaluinya\n",
    "\n",
    "| Material | $Y$ ($\\times 10^{10} (N/m^2)$   | $\\rho_v$ ($kg/m^3$) | $c_w$ ($10^3 m/dt$)|\n",
    "|:------:|:-------------------------------------|:-------:|\n",
    "| Alumunium    | 6,9 | 2700 | 5,0 |\n",
    "| Besi cor    | 19 | 7200 | 5,1 |\n",
    "| Tembaga    | 11 | 8900 | 3,5 |\n",
    "| Timah    | 1,6 | 11340 | 1,2 |\n",
    "| Baja    | 20| 7800 | 5,1 |\n",
    "| Gelas    | 5,4 | 2300 | 5,0 |\n",
    "| Kuningan    | 10,5 | 8000 | 3,5 |"
   ]
  },
  {
   "cell_type": "markdown",
   "metadata": {},
   "source": [
    "## Penurunan kecepatan rambat gelombang suara melalui batang besi\n",
    "Persamaan gelombang suara melalui batang besi dapat diturunkan menggunakan analogi perambatan gelombang pada tali.\n",
    "![rod](/Ilustrasi/rod_.jpg)"
   ]
  },
  {
   "cell_type": "markdown",
   "metadata": {},
   "source": [
    "Secara lebih detail, penjelasan dapat dilihat pada buku Akira-Hirose, halaman 88, atau bisa dilihat [disini](https://www.physics.queensu.ca/~lynann/lectures/W7L3.pdf)"
   ]
  }
 ],
 "metadata": {
  "kernelspec": {
   "display_name": "Python 2",
   "language": "python",
   "name": "python2"
  },
  "language_info": {
   "codemirror_mode": {
    "name": "ipython",
    "version": 2
   },
   "file_extension": ".py",
   "mimetype": "text/x-python",
   "name": "python",
   "nbconvert_exporter": "python",
   "pygments_lexer": "ipython2",
   "version": "2.7.13"
  }
 },
 "nbformat": 4,
 "nbformat_minor": 2
}
