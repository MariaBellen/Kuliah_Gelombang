{
 "cells": [
  {
   "cell_type": "markdown",
   "metadata": {},
   "source": [
    "# Tentang Osilasi\n",
    "Marilah kita mengulang kembali materi tentang osilasi, yang telah diperoleh sewaktu di sekolah menengah serta saat mengambil materi Fisika Dasar 2 yang menjadi prasyarat matakuliah Gelombang ini. Materi yang diberikan dalam kuliah ini mengikuti isi dari buku Akira-Hirose, sehingga penjelasan yang lebih detil, saya mohon untuk menelaah keseluruhan isi dari buku tersebut. Agar pemahaman menjadi lebih komplit, atau bahasa jawanya *tutug* alias tuntas silahkan membaca-baca buku HJ Pain, yang dapat dicari versi pdf-nya melalui internet. O, iya buku Gelombang karangan Akira Hirose tersedia di perpustakaan, namun yang edisi pertama. Isinya sama dengan edisi kedua yang lebih baru, jadi tidak perlu kuatir.\n",
    "\n",
    "## Isi perkuliahan\n",
    "- Pendahuluan\n",
    "- Sistem pegas massa\n",
    "- Energi yang dilontarkan selama osilasi mekanik\n",
    "- Sistem osilasi mekanik yang lain\n",
    "- Osilasi elektromagnetik\n",
    "- Osilasi teredam\n",
    "- Osilasi Terpaksa\n",
    "- Contoh soal latihan\n",
    "<div class=\"alert alert-info\" style=\"font-size:12pt; margin-top:20px\"> **Obyektif** atau bahasa resminya ***Learning outcome***  dari kuliah ini tidak terlalu muluk-muluk, hanya mengulang konsep tentang osilasi, melalui contoh yang paling sederhana yaitu sistem pegas dengan massa. Gelombang elektromagnetik diperkenalkan dengan sistem elektronik berupa rangkaian R-L-C, Resistor, Induktor dan Kapasitor. Selain itu mulai diperkenalkan sistem getaran teredam dan terpaksa. Diharapkan dari kuliah perdana ini, mahasiswa siap diajak menapak untuk mulai pendakian gunung,<del>sehingga nanti dapat menjadi merasa lebih ringan saat lereng mulai semakin terjal, saat melalui lembah fisika kuantum di jalur pendakian fisika maupun lembah seismologi dan metode seismik di jalur pendakian geofisika</del>. \n",
    "</div>\n",
    "\n",
    "## Pendahuluan\n",
    "Saya masih ingat betul definisi gelombang yang diajarkan saat saya sekolah menengah, yaitu getaran yang merambat. Sementara defini getaran itu sendiripun saya juga ingat, yaitu gerak bolak balik di sekitar titik tertentu. Fenomena gelombang secara tidak sadari telah menjadi bagian di dalam kehidupan kita. Jadi, belajar gelombang, sejatinya adalah mengamati apa yang ada di sekitar kita, kemudian berusaha mengamati fenomena tersebut secara kuantitatif. Gelombang air di pantai, gelombang   "
   ]
  },
  {
   "cell_type": "markdown",
   "metadata": {},
   "source": []
  }
 ],
 "metadata": {
  "kernelspec": {
   "display_name": "Python 3",
   "language": "python",
   "name": "python3"
  }
 },
 "nbformat": 4,
 "nbformat_minor": 2
}
