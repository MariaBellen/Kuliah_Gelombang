{
 "cells": [
  {
   "cell_type": "markdown",
   "metadata": {},
   "source": [
    "##  Gelombang suara melalui cairan\n",
    "\n",
    "Gelombang suara memerlukan suatu media yang kompresibel, sehingga karena benda padat adalah kompresibel, maka suara dapat melaluinya. \n",
    "\n",
    "<img src=\"http://www.michw.com/blogwp/wp-content/uploads/2013/02/echolocation.png\" width=600px height=450px alt='Paus'>\n",
    "\n",
    "Kecepatan rambat suara di dalam zat cair dirumuskan sebagai\n",
    "<img src=\"https://latex.codecogs.com/svg.latex?\\Large&space;c_w = \\sqrt{\\frac{M_B}{\\rho_v}}\" title=\"deret pangkat\" />\n",
    "\n",
    "dengan $M_B$ adalah modulus Bulk untuk cairan.\n",
    "\n",
    "Persamaan gelombang yang merambat melalui cairan, dapat diperoleh menggunakan pendekatan yang sama dengan perambatan pada batang besi, hanya batang besi diganti dengan silinder dengan luas penampang $A$ yang berisi cairan. Penjelasannya diberikan pada *Example* 5.3 halaman 92 buku Akira Hirose.\n",
    "\n",
    "## Gelombang suara pada gas"
   ]
  },
  {
   "cell_type": "markdown",
   "metadata": {},
   "source": [
    "Kecepatan gelombang suara pada medium gas dirumuskan dengan persamaan\n",
    "<img src=\"https://latex.codecogs.com/svg.latex?\\Large&space;c_w = \\sqrt{\\frac{\\gamma P}{\\rho_v}}\" title=\"deret pangkat\" />\n",
    "dengan $\\gamma$ adalah rasio kalor jenis, *ratio of specific heat*\n",
    "\n",
    "Tekanan gas diberikan oleh <img src=\"https://latex.codecogs.com/svg.latex?\\Large&space;P = n k_B T (N/m^2)\" title=\"deret pangkat\" />\n",
    "\n",
    "dengan $n$ densitas jumlah molekul gas ($m^{-3}$), $k_B$ adalah konstanta Boltzmann, $k_B=1.38 \\times 10^{-23} J/K$"
   ]
  },
  {
   "cell_type": "code",
   "execution_count": null,
   "metadata": {},
   "outputs": [],
   "source": []
  }
 ],
 "metadata": {
  "kernelspec": {
   "display_name": "Python 2",
   "language": "python",
   "name": "python2"
  },
  "language_info": {
   "codemirror_mode": {
    "name": "ipython",
    "version": 2
   },
   "file_extension": ".py",
   "mimetype": "text/x-python",
   "name": "python",
   "nbconvert_exporter": "python",
   "pygments_lexer": "ipython2",
   "version": "2.7.13"
  }
 },
 "nbformat": 4,
 "nbformat_minor": 2
}
