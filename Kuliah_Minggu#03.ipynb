{
 "cells": [
  {
   "cell_type": "markdown",
   "metadata": {},
   "source": [
    "# Beberapa konsep matematika\n",
    "## (yang mendukung materi gelombang)\n",
    "\n",
    "Dalam kuliah minggu ke 3 ini akan diulang lagi beberapa konsep matematika yang nantinya berguna untuk memodelkan fenomena gelombang serta memecahkan permasalahan gelombang, yaitu deret Taylor dan Variabel kompleks.\n",
    "\n",
    "Learning outcome dari kuliah ini adalah mahasiswa mampu menderetkan sebuah fungsi dengan pendekatan Taylor, serta memahami penggunaan varibel kompleks untuk menyatakan fungsi harmonik, sinus dan cosinus.\n",
    "\n",
    "## Ekspansi deret Taylor\n",
    "\n",
    "Sembarang fungsi $f(x)$ dapat diekspansikan ke dalam deret pangkat dalam $x$ sebagai\n",
    "<img src=\"https://latex.codecogs.com/svg.latex?\\Large&space;f(x)=f(a)+f'(a)(x-a)+\\frac{f''(a)}{2!}(x-a)^2+..+\\frac{f^n(a)}{n!}(x-a)^n\" title=\"deret pangkat\" />\n",
    "\n",
    "\n",
    "\n",
    "dengan $a$ adalah sembarang nilai dalam x dan $f^n(a)$ adalah turunan ke-$n$ dari $f(x)$ yang dihitung pada $x=a$.\n",
    "\n",
    "Sebagai teladan, mari kita lihat jika fungsi yang akan kita tinjau adalah $\\sin$  $x$, maka berdasarkan persamaan diatas didapat\n",
    "<img src=\"https://latex.codecogs.com/svg.latex?\\Large&space;\\sin x = \\sin (a)+\\cos (a)(x-a)-\\frac{\\sin a}{2!}(x-a)^2 -\\frac{\\cos a}{3!}(x-a)^3\" title=\"fungsi sin\" />\n",
    "\n",
    "Jika kita memilih $a=0$, didapatkan\n",
    "<img src=\"https://latex.codecogs.com/svg.latex?\\Large&space;\\sin x = x-\\frac{1}{3!}(x)^3+\\frac{1}{5!}(x)^5-\\frac{1}{7!}(x)^7+...\" title=\"fungsi sin\" />\n",
    "Dengan Python kita dapat membuktikan kehebatan deret Taylor tsb "
   ]
  },
  {
   "cell_type": "code",
   "execution_count": 27,
   "metadata": {},
   "outputs": [],
   "source": [
    "from math import *"
   ]
  },
  {
   "cell_type": "code",
   "execution_count": 28,
   "metadata": {},
   "outputs": [],
   "source": [
    "eksak = sin(0.5)"
   ]
  },
  {
   "cell_type": "code",
   "execution_count": 29,
   "metadata": {},
   "outputs": [],
   "source": [
    "pendekatan_Taylor = 0.5-0.5**3/factorial(3)+0.5**5/factorial(5)-0.5**7/factorial(7)"
   ]
  },
  {
   "cell_type": "code",
   "execution_count": 30,
   "metadata": {},
   "outputs": [
    {
     "name": "stdout",
     "output_type": "stream",
     "text": [
      " Solusi eksak  0.479425538604\n",
      " Pendekatan    0.479425533234\n"
     ]
    }
   ],
   "source": [
    "print \" Solusi eksak \", eksak\n",
    "print \" Pendekatan   \", pendekatan_Taylor"
   ]
  },
  {
   "cell_type": "markdown",
   "metadata": {},
   "source": [
    "Dengan cara serupa, dapat dibuktikan bahwa \n",
    "<img src=\"https://latex.codecogs.com/svg.latex?\\Large&space;\\cos x = 1-\\frac{1}{2!}(x)^2+\\frac{1}{4!}(x)^4-\\frac{1}{6!}(x)^6+...\" title=\"fungsi cos\" />\n",
    "\n",
    "<img src=\"https://latex.codecogs.com/svg.latex?\\Large&space;\\tan x = x-\\frac{1}{3!}(x)^3+\\frac{2}{15!}(x)^5-...\" title=\"fungsi tan\" />\n",
    "\n",
    "<img src=\"https://latex.codecogs.com/svg.latex?\\Large&space;e^x = 1+x+\\frac{1}{2!}(x)^2+\\frac{1}{3!}(x)^3+\\frac{1}{4!}(x)^4+...\" title=\"fungsi e^x\" />\n",
    "\n",
    "\n",
    "\n",
    "Salah satu kasus khusus adalah deret Binomial sebagai berikut\n",
    "<img src=\"https://latex.codecogs.com/svg.latex?\\Large&space;(1+x)^n=1 + nx + \\frac{n(n-1)}{2!}x^2+\\frac{n(n-1)(n-2)}{3!}x^3\" title=\"fungsi binomial\" />\n"
   ]
  },
  {
   "cell_type": "markdown",
   "metadata": {},
   "source": [
    "## Variabel Kompleks\n",
    "\n",
    "![kartun_kompleks](http://mathforum.org/kb/servlet/JiveServlet/download/338-849074-2564534-147710/frank1.jpg)\n",
    "\n",
    "Pada bagian ini, satu hal yang harus diingat bahwa terdapat rumus Euler, \n",
    "<img src=\"https://latex.codecogs.com/svg.latex?\\Large&space;e^{i\\theta}=\\cos \\theta+ i \\sin \\theta\" title=\"fungsi cos\" />\n",
    "\n",
    "\n",
    "dengan $i=\\sqrt{-1}$. Untuk membuktikan persamaan Euler, kita gunakan pendekatan fungsi $e^x$ diatas, dengan mengganti $x$ dengan $i\\theta$, sbb:\n",
    "\n",
    "<img src=\"https://latex.codecogs.com/svg.latex?\\Large&space;e^x = 1+i\\theta+\\frac{1}{2!}(i\\theta)^2+\\frac{1}{3!}(i\\theta)^3+\\frac{1}{4!}(i\\theta)^4+...\" title=\"fungsi e^x\" />\n",
    "<img src=\"https://latex.codecogs.com/svg.latex?\\Large&space;=1+i\\theta-\\frac{1}{2!}(\\theta)^2-\\frac{1}{3!}(i\\theta)^3+\\frac{1}{4!}(\\theta)^4+\\frac{1}{5!}(i\\theta)^5+...\" title=\"fungsi e^x\" />\n",
    "<img src=\"https://latex.codecogs.com/svg.latex?\\Large&space;=[1-\\frac{1}{2!}(\\theta)^2+\\frac{1}{4!}(\\theta)^4+\\frac{1}{6!}(\\theta)^6+...]+i[\\theta-\\frac{1}{3!}(i\\theta)^3+\\frac{1}{5!}(i\\theta)^5+...]\" title=\"fungsi e^x\" />\n",
    "<img src=\"https://latex.codecogs.com/svg.latex?\\Large&space;=\\cos \\theta + i \\sin \\theta\" title=\"fungsi e^x\" />\n",
    "\n",
    "Dengan relasi ini, maka fungsi $\\sin$ dapat direpresentasikan dalam rumus Euler, menjadi \n",
    "<img src=\"https://latex.codecogs.com/svg.latex?\\Large&space;\\sin=\\frac{e^{ix}-e^{-ix}}{2i}\" title=\"fungsi sin Euler\" />\n",
    "\n",
    "Mari kita coba hitung fungsi sin menggunakan rumus Euler ini,"
   ]
  },
  {
   "cell_type": "code",
   "execution_count": 31,
   "metadata": {},
   "outputs": [
    {
     "name": "stdout",
     "output_type": "stream",
     "text": [
      " Solusi eksak  0.479425538604\n",
      " Sin - Euler   0.479425538604\n"
     ]
    }
   ],
   "source": [
    "eksak = sin(0.5)\n",
    "\n",
    "# Panggil modul complex mathematics, cmath\n",
    "\n",
    "import cmath\n",
    "\n",
    "sin_euler = (cmath.exp(0.5j)-cmath.exp(-0.5j))/2j\n",
    "print \" Solusi eksak \", eksak\n",
    "print \" Sin - Euler  \", sin_euler.real"
   ]
  },
  {
   "cell_type": "markdown",
   "metadata": {},
   "source": [
    "Dengan modul cmath ini kita dapat gunakan untuk menyelesaikan persoalan yang mengandung bilangan kompleks, misal soal no 8 pada Bab 3 Buku Akira Hirose, yaitu ditanya berapa $\\sqrt{i}$"
   ]
  },
  {
   "cell_type": "code",
   "execution_count": 32,
   "metadata": {},
   "outputs": [
    {
     "data": {
      "text/plain": [
       "(0.7071067811865476+0.7071067811865475j)"
      ]
     },
     "execution_count": 32,
     "metadata": {},
     "output_type": "execute_result"
    }
   ],
   "source": [
    "cmath.sqrt(complex(0,1))"
   ]
  },
  {
   "cell_type": "markdown",
   "metadata": {},
   "source": [
    "Ingat bahwa 0,70710... adalah $\\frac{1}{2}\\sqrt2$"
   ]
  },
  {
   "cell_type": "code",
   "execution_count": null,
   "metadata": {},
   "outputs": [],
   "source": []
  }
 ],
 "metadata": {
  "kernelspec": {
   "display_name": "Python 2",
   "language": "python",
   "name": "python2"
  },
  "language_info": {
   "codemirror_mode": {
    "name": "ipython",
    "version": 2
   },
   "file_extension": ".py",
   "mimetype": "text/x-python",
   "name": "python",
   "nbconvert_exporter": "python",
   "pygments_lexer": "ipython2",
   "version": "2.7.13"
  }
 },
 "nbformat": 4,
 "nbformat_minor": 2
}
