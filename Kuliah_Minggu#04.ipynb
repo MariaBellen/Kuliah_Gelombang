{
 "cells": [
  {
   "cell_type": "markdown",
   "metadata": {},
   "source": [
    "# Konsep dasar Gelombang Mekanik\n",
    "\n",
    "Gelombang dapat digolongkan menjadi dua jenis (kategori), yaitu \n",
    "- Gelombang Mekanik\n",
    "- Gelombang Elektromagnetik\n",
    "<div class=\"alert alert-info\" style=\"font-size:12pt; margin-top:20px\"> ***Learning outcome***  dari kuliah ini adalah mahasiswa faham konsep dasar mekanisme perambatan gelombang mekanik, sehingga dapat menyebutkan contoh-contoh gelombang mekanik dalam kehidupan sehari-hari, bagaimana gelombang ini dapat merambat (pada gas, fluida, dan padatan), bagaiama persamaan gelombangnya serta mampu menghitung besar energi dan momentum yang dibawa gelombang mekanik tersebut. \n",
    "</div>\n",
    "\n",
    "Gelombang mekanik harus merambat malalui medium (akustik, elastik, visko-elastik dll), sementara gelombang elektromagnetik tidak harus, bahkan di vakum pun dapat. Dalam minggu ini akan dipaparkan khusus mengenai mekanisme perambatan gelombang mekanik, dengan isi kuliah\n",
    "\n",
    "1. Jalur transmisi gelombang via sistem pegas-massa\n",
    "2. Derivasi persamaan gelombangnya\n",
    "3. Energi yang dibawa gelombang\n",
    "4. Momentum yang dibawa Gelombang\n",
    "5. Gelombang transersal pada tali\n",
    "\n",
    "![gel_mekanik](https://upload.wikimedia.org/wikipedia/commons/thumb/4/4a/Espejo_%283207185886%29.jpg/320px-Espejo_%283207185886%29.jpg)\n",
    "\n",
    "Materi yang lebih serius dapat dilihat di [tautan ini](http://users.physics.harvard.edu/~morii/phys15c/2002/lectures/Lecture04.pdf).\n"
   ]
  },
  {
   "cell_type": "markdown",
   "metadata": {},
   "source": [
    "## Jalur transmisi gelombang melalui sistem pegas dan massa\n",
    "\n",
    "Untuk memudahkan dalam memahami perambatan gelombang mekanik melalui benda padat, dibuat analogi sebuah rangkaian masa dan pegas yang identik yang disusun dengan teratur\n",
    "![mass-spring](https://res.mdpi.com/crystals/crystals-06-00044/article_deploy/html/images/crystals-06-00044-g004.png)\n"
   ]
  },
  {
   "cell_type": "markdown",
   "metadata": {},
   "source": [
    "Sistem pegas-massa tersebut tersusun atas banyak pegas yang sejenis dengan konstanta pegas yang sama $k$ dan massa yang sama $m$. Jika tidak ada gaya gangguan, maka masa akan diam di tempat. Saat diberi gaya di salah satu masa, bisa dibayangkan akan merambat getaran sehingga keseluruhan masa pada sistem tersebut akan bergerak, dengan frekuensi/periode tertentu."
   ]
  },
  {
   "cell_type": "markdown",
   "metadata": {},
   "source": [
    "## Penurunan persamaan gelombang mekanik\n",
    "\n",
    "Jika kita cuplik sebuah masa-pegas dari sistem diatas, kita peroleh keadaan saat masa tersebut diganggu seperti pada gambar berikut :\n",
    "![ps](https://farside.ph.utexas.edu/teaching/315/Waveshtml/img990.png)"
   ]
  },
  {
   "cell_type": "markdown",
   "metadata": {},
   "source": [
    "perhatikan bahwa masing-masing masa di $x_{i-1}$, $x_{i}$, dan $x_{i+1}$ berpindah sejauh $\\psi_{i-1}$, $\\psi_{i}$, dan $\\psi_{i+1}$ "
   ]
  },
  {
   "cell_type": "markdown",
   "metadata": {},
   "source": [
    "Coba perhatikan cara menurunkan persamaan gelombangnya dengan analisis yang analog dengan konsep *finite difference* yang telah dijelaskan pada bab sebelumnya. Pada buku Akira-Hirose, baca dan camkan penurunan rumus di halaman 64-65 sub bab *4.1 Derivation of a Wave Equation*. "
   ]
  },
  {
   "cell_type": "markdown",
   "metadata": {},
   "source": [
    "Akhir cerita, diperoleh persamaan \n",
    "<img src=\"https://latex.codecogs.com/svg.latex?\\Large&space;M\\frac{d^2\\psi}{dt^2} = k_s (\\Delta x)^2 \\frac{d^2\\psi}{dx^2}\" title=\"fungsi sin\" />\n",
    "atau"
   ]
  },
  {
   "cell_type": "markdown",
   "metadata": {},
   "source": [
    "<img src=\"https://latex.codecogs.com/svg.latex?\\Large&space;\\frac{d^2\\psi}{dt^2} = \\frac{k_s}{M} (\\Delta x)^2 \\frac{d^2\\psi}{dx^2}\" title=\"fungsi sin\" /> yang sama dengan penurunan persamaan gelombang seperti pada bab sebelumnya. \n",
    "\n",
    "Kecepatan rambatan gelombangnya, $c_w$\n",
    "<img src=\"https://latex.codecogs.com/svg.latex?\\Large&space;c_w=\\Delta x \\sqrt{\\frac{k_s}{M}} \" title=\"fungsi sin\" />"
   ]
  },
  {
   "cell_type": "code",
   "execution_count": null,
   "metadata": {},
   "outputs": [],
   "source": []
  }
 ],
 "metadata": {
  "kernelspec": {
   "display_name": "Python 2",
   "language": "python",
   "name": "python2"
  },
  "language_info": {
   "codemirror_mode": {
    "name": "ipython",
    "version": 2
   },
   "file_extension": ".py",
   "mimetype": "text/x-python",
   "name": "python",
   "nbconvert_exporter": "python",
   "pygments_lexer": "ipython2",
   "version": "2.7.13"
  }
 },
 "nbformat": 4,
 "nbformat_minor": 2
}
