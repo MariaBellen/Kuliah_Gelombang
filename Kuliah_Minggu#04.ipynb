{
 "cells": [
  {
   "cell_type": "markdown",
   "metadata": {},
   "source": [
    "# Konsep dasar Gelombang Mekanik\n",
    "\n",
    "Gelombang dapat digolongkan menjadi dua jenis (kategori), yaitu \n",
    "- Gelombang Mekanik\n",
    "- Gelombang Elektromagnetik\n",
    "<div class=\"alert alert-info\" style=\"font-size:12pt; margin-top:20px\"> ***Learning outcome***  dari kuliah ini adalah mahasiswa faham konsep dasar mekanisme perambatan gelombang mekanik, sehingga dapat menyebutkan contoh-contoh gelombang mekanik dalam kehidupan sehari-hari, bagaimana gelombang ini dapat merambat (pada gas, fluida, dan padatan), bagaiama persamaan gelombangnya serta mampu menghitung besar energi dan momentum yang dibawa gelombang mekanik tersebut. \n",
    "</div>\n",
    "\n",
    "Gelombang mekanik harus merambat malalui medium (akustik, elastik, visko-elastik dll), sementara gelombang elektromagnetik tidak harus, bahkan di vakum pun dapat. Dalam minggu ini akan dipaparkan khusus mengenai mekanisme perambatan gelombang mekanik, dengan isi kuliah\n",
    "\n",
    "1. Jalur transmisi gelombang via sistem pegas-massa\n",
    "2. Derivasi persamaan gelombangnya\n",
    "3. Energi yang dibawa gelombang\n",
    "4. Momentum yang dibawa Gelombang\n",
    "5. Gelombang transersal pada tali\n",
    "\n",
    "![gel_mekanik](https://upload.wikimedia.org/wikipedia/commons/thumb/4/4a/Espejo_%283207185886%29.jpg/320px-Espejo_%283207185886%29.jpg)\n",
    "\n",
    "Materi yang lebih serius dapat dilihat di [tautan ini](http://users.physics.harvard.edu/~morii/phys15c/2002/lectures/Lecture04.pdf).\n"
   ]
  },
  {
   "cell_type": "markdown",
   "metadata": {},
   "source": [
    "## Jalur transmisi gelombang melalui sistem pegas dan massa\n",
    "\n",
    "Untuk memudahkan dalam memahami perambatan gelombang mekanik melalui benda padat, dibuat analogi sebuah rangkaian masa dan pegas yang identik yang disusun dengan teratur\n",
    "![mass-spring](https://res.mdpi.com/crystals/crystals-06-00044/article_deploy/html/images/crystals-06-00044-g004.png)\n"
   ]
  },
  {
   "cell_type": "markdown",
   "metadata": {},
   "source": [
    "Sistem pegas-massa tersebut tersusun atas banyak pegas yang sejenis dengan konstanta pegas yang sama $k$ dan massa yang sama $m$. Jika tidak ada gaya gangguan, maka masa akan diam di tempat. Saat diberi gaya di salah satu masa, bisa dibayangkan akan merambat getaran sehingga keseluruhan masa pada sistem tersebut akan bergerak, dengan frekuensi/periode tertentu."
   ]
  },
  {
   "cell_type": "markdown",
   "metadata": {},
   "source": [
    "## Penurunan persamaan gelombang mekanik\n",
    "\n",
    "Jika kita cuplik sebuah masa-pegas dari sistem diatas, kita peroleh keadaan saat masa tersebut diganggu seperti pada gambar berikut :\n",
    "![ps](https://farside.ph.utexas.edu/teaching/315/Waveshtml/img990.png)"
   ]
  },
  {
   "cell_type": "markdown",
   "metadata": {},
   "source": [
    "perhatikan bahwa masing-masing masa di $x_{i-1}$, $x_{i}$, dan $x_{i+1}$ berpindah sejauh $\\psi_{i-1}$, $\\psi_{i}$, dan $\\psi_{i+1}$ "
   ]
  },
  {
   "cell_type": "markdown",
   "metadata": {},
   "source": [
    "Coba perhatikan cara menurunkan persamaan gelombangnya dengan analisis yang analog dengan konsep *finite difference* yang telah dijelaskan pada bab sebelumnya. Pada buku Akira-Hirose, baca dan camkan penurunan rumus di halaman 64-65 sub bab *4.1 Derivation of a Wave Equation*. "
   ]
  },
  {
   "cell_type": "markdown",
   "metadata": {},
   "source": [
    "Akhir cerita, diperoleh persamaan \n",
    "<img src=\"https://latex.codecogs.com/svg.latex?\\Large&space;M\\frac{d^2\\psi}{dt^2} = k_s (\\Delta x)^2 \\frac{d^2\\psi}{dx^2}\" title=\"fungsi sin\" />\n",
    "atau"
   ]
  },
  {
   "cell_type": "markdown",
   "metadata": {},
   "source": [
    "<img src=\"https://latex.codecogs.com/svg.latex?\\Large&space;\\frac{d^2\\psi}{dt^2} = \\frac{k_s}{M} (\\Delta x)^2 \\frac{d^2\\psi}{dx^2}\" title=\"fungsi sin\" /> yang sama dengan penurunan persamaan gelombang seperti pada bab sebelumnya. \n",
    "\n",
    "Kecepatan rambatan gelombangnya, $c_w$\n",
    "<img src=\"https://latex.codecogs.com/svg.latex?\\Large&space;c_w=\\Delta x \\sqrt{\\frac{k_s}{M}} \" title=\"fungsi sin\" />\n",
    "atau\n",
    "<img src=\"https://latex.codecogs.com/svg.latex?\\Large&space;c_w=\\sqrt{\\frac{k_s\\Delta x}{M/\\Delta x}}=\\sqrt{\\frac{K}{\\rho_l}} \" title=\"fungsi sin\" />"
   ]
  },
  {
   "cell_type": "markdown",
   "metadata": {},
   "source": [
    "dengan $K$ sering disebut Modulus elastik (elactic modulus), dalam Newton ($N$). Dapat kita analogikan untuk beberapa kasus gelombang yang merambat melalui medium, diantaranya\n",
    "- Gelombang pada tali dengan tarikan sebesar $T$ ($N$), densitas linear $\\rho_l$:\n",
    "<img src=\"https://latex.codecogs.com/svg.latex?\\Large&space;c_w= \\sqrt{\\frac{T}{\\rho_l}} \" title=\"fungsi sin\" />\n",
    "- Gelombang suara dalam gas diatomik (udara), konstanta adiabatik (rasio panas jenis), $\\gamma=7/5$, $P(N/m^2)$ adalah tekanan dan $\\rho_v$ densitas dalam $kg/m^3$\n",
    "<img src=\"https://latex.codecogs.com/svg.latex?\\Large&space;c_w= \\sqrt{\\frac{\\gamma P}{\\rho_v}} \" title=\"fungsi sin\" />\n",
    "- Gelombang suara melalui benda padat, $Y$ adalah modulus Young\n",
    "<img src=\"https://latex.codecogs.com/svg.latex?\\Large&space;c_w= \\sqrt{\\frac{Y}{\\rho_v}} \" title=\"fungsi sin\" />\n",
    "- Gelombang suara melalui air, dengan $k (N/m^2)$ adalah modulus Bulk air\n",
    "<img src=\"https://latex.codecogs.com/svg.latex?\\Large&space;c_w= \\sqrt{\\frac{\\kappa}{\\rho_v}} \" title=\"fungsi sin\" />"
   ]
  },
  {
   "cell_type": "markdown",
   "metadata": {},
   "source": [
    "## Energi yang dibawa oleh gelombang mekanik\n",
    "\n",
    "Jika dianggap gelombang yang menjalar pada jalur transmisi massa-pegas adalah gelombang sinusoida, maka\n",
    "<img src=\"https://latex.codecogs.com/svg.latex?\\Large&space;\\psi(x,t)= \\psi_0 \\sin (kx-\\omega t) \" title=\"fungsi sin\" />\n",
    "\n",
    "dengan kecepatan gelombangnya adalah\n",
    "<img src=\"https://latex.codecogs.com/svg.latex?\\Large&space;\\frac{\\omega}{k}=c_w=\\sqrt{\\frac{K(N)}{\\rho_l (kg/m)}} \" title=\"fungsi sin\" />"
   ]
  },
  {
   "cell_type": "markdown",
   "metadata": {},
   "source": [
    "Kecepatan sebuah titik masa yang terletak di $x$ dapat dicari dengan menurunkan fungsi perpindahan $\\psi (x,t)$ diatas terhadap waktu, $t$\n",
    "<img src=\"https://latex.codecogs.com/svg.latex?\\Large&space;v(x,)=\\frac{\\partial \\psi(x,t)}{\\partial t}= -\\omega \\psi_0 \\cos (kx-\\omega t) \" title=\"fungsi sin\" />\n",
    "Dengan demikian, energi kinetik dari masa tersebut adalah (dalam Joule)\n",
    "<img src=\"https://latex.codecogs.com/svg.latex?\\Large&space;K.E =\\frac{1}{2}m\\left( \\frac{\\partial \\psi}{\\partial t}\\right)^2 = \\frac{1}{2}m (\\omega \\psi_0)^2 \\cos^2 (kx-\\omega t)  \" title=\"fungsi sin\" />"
   ]
  },
  {
   "cell_type": "markdown",
   "metadata": {},
   "source": [
    "Energi potensial yang tersimpan di dalam pegas\n",
    "<img src=\"https://latex.codecogs.com/svg.latex?\\Large&space;P.E =\\frac{1}{2}k_s[\\psi (x+\\Delta x,t)-\\psi(x,t)]^2\" title=\"fungsi sin\" />\n",
    "<img src=\"https://latex.codecogs.com/svg.latex?\\Large&space;\\approx \\frac{1}{2}k_s (\\Delta x)^2 \\left( \\frac{\\partial \\psi}{\\partial x}\\right)^2\" title=\"fungsi sin\" />\n"
   ]
  }
 ],
 "metadata": {
  "kernelspec": {
   "display_name": "Python 3",
   "language": "python",
   "name": "python3"
  },
  "language_info": {
   "codemirror_mode": {
    "name": "ipython",
    "version": 3
   },
   "file_extension": ".py",
   "mimetype": "text/x-python",
   "name": "python",
   "nbconvert_exporter": "python",
   "pygments_lexer": "ipython3",
   "version": "3.5.3"
  }
 },
 "nbformat": 4,
 "nbformat_minor": 2
}
