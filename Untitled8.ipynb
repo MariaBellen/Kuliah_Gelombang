{
 "cells": [
  {
   "cell_type": "markdown",
   "metadata": {},
   "source": [
    "# Gelombang Sferis, Gelombang pada medium tak-seragam dan gelombang multidimensional\n",
    "Dalam minggu ini, akan dipaparkan kelestarian dari aliran energi yang diaplikasikan untuk gelombang sferis, gelombang melalui medium tak-seragam dan gelombang multidimensi. \n",
    "\n",
    "## Pendahuluan\n",
    "Pada umumnya, gelombang dapat direpresentasikan secara sederhana, misalnya gelombang tali, gelombang suara melalui udara dan solid, menggunakan persamaan\n",
    "\n",
    "<center><img src=\"https://latex.codecogs.com/svg.latex?\\Large&space;\\xi(x,t) = \\xi_0 \\sin{(kx-\\omega t)}\" title=\"fungsi sin\" />,</center>\n",
    "\n",
    "dengan $\\xi_0$ adalah amplitudo dari perpindahan gelombang sinusnya. Gelombang yang dinyatakan oleh persamaan diatas memiliki amplitudo yang konstan sepanjang waktu.\n",
    "\n",
    "## Gelombang-gelombang multidimensi\n",
    "\n",
    "Gelombang-gelombang yang telah kita pelajari hanya memiliki sebuah variabel spasial (keruangan), misalnya variabel $x$ untuk gelombang bidang, $\\rho$ untuk gelombang silidris dan $r$ untuk gelombang sferis (bola). Namun saat ini dipandang perlu untuk dijelaskan mengenai gelombang yang variabel keruangannya lebih dari 1, misalnya gelombang yang menjalar di dalam membran, seperti misalnya pada membran bedug.\n",
    "\n",
    "![bedug](http://3.bp.blogspot.com/-zi4TDCTL-fs/Tphh3YfB2PI/AAAAAAAAB1U/-8dR8uGmdt8/s1600/bedug.jpg)\n",
    "\n",
    "\n",
    "Namun karena sisi-sisi membran pada bedug berbentul lingkaran, sehingga analisisnya memerlukan bantuan fungsi Bessel, yang tidak diberikan sebagai materi dalam cakupan kuliah ini, maka membran dibayangkan berbentuk persegi $a \\times b$ dengan tegangan permukaan $T_s (N/m$) yang seragam.\n",
    "\n",
    "Persamaan gelombang untuk perpindahan transversalnya $(\\xi(x,y,t))$ diberikan oleh \n",
    "<center><img src=\"https://latex.codecogs.com/svg.latex?\\Large&space;\\frac{\\partial^2 \\xi}{\\partial t^2}=c_w^2 \\left( \\frac{\\partial^2 \\xi}{\\partial x^2}+\\frac{\\partial^2 \\xi}{\\partial y^2} \\right)=c_w^2\\nabla^2 \\xi\" title=\"fungsi sin\" />,</center>\n",
    "\n",
    "dengan $c_w^2 = T_s/\\rho_s$, dengan $\\rho_s$ adalah densitas permukaan $(kg/m^2)$ dan diperkenalkan operator Laplacian, $\\nabla^2$\n",
    "\n",
    "Solusi gelombang pada tali yang diikat di ujung-ujungnya (*hard boundary*) adalah\n",
    "\n",
    "<center><img src=\"https://latex.codecogs.com/svg.latex?\\Large&space;\\xi(x,t) = \\xi_0 \\sin{\\left( \\frac{n\\pi}{L}x\\right)}\\cos{(\\omega_nt)}\" title=\"fungsi sin\" />,</center>"
   ]
  },
  {
   "cell_type": "code",
   "execution_count": 50,
   "metadata": {},
   "outputs": [],
   "source": [
    "import math\n",
    "import numpy as np\n",
    "import matplotlib.pyplot as plt\n",
    "n = 1\n",
    "cw = 1\n",
    "\n",
    "L = 10\n",
    "omega = math.pi * cw /L\n",
    "\n",
    "Amplitudo = 10\n",
    "x = np.linspace(0,10,500)\n",
    "t = np.linspace(0,10,500)\n",
    "perpindahan = Amplitudo * np.sin(n * math.pi * x/L) * np.cos(omega * t)"
   ]
  },
  {
   "cell_type": "code",
   "execution_count": 51,
   "metadata": {},
   "outputs": [
    {
     "data": {
      "image/png": "[encoded data removed]",
      "text/plain": [
       "<Figure size 432x288 with 1 Axes>"
      ]
     },
     "metadata": {},
     "output_type": "display_data"
    }
   ],
   "source": [
    "plt.plot(perpindahan)\n",
    "plt.show()"
   ]
  },
  {
   "cell_type": "markdown",
   "metadata": {},
   "source": [
    "Perhatikan bahwa amplitudo selain dipengaruhi oleh nilai amplitudo mula-mula, juga sangat dipengaruhi oleh fungsi $ \\sin{\\left( \\frac{n\\pi}{L}x\\right)}$ yang menjadi pemaksa agar di $x=0$ dan di $x = L$ nilai Amplitudonya nol (0).\n",
    "\n",
    "Dengan logika yang sama, untuk membran dengan panjang $a$ dan lebar $b$, kira-kira bagaimanakah persamaan gelombangnya? Hayo coba difikirkan dulu ya merenung sebentar saja... Gunakan pendekatan yang sama dengan pada tali. Perhatikan tadi masalah syarat batas kalau pada tali di ujung-ujungnya, kalau membran ya berarti di sepanjang sisi-sisinya harus nol amplitudonya. "
   ]
  },
  {
   "cell_type": "code",
   "execution_count": null,
   "metadata": {},
   "outputs": [],
   "source": []
  }
 ],
 "metadata": {
  "kernelspec": {
   "display_name": "Python 2",
   "language": "python",
   "name": "python2"
  },
  "language_info": {
   "codemirror_mode": {
    "name": "ipython",
    "version": 2
   },
   "file_extension": ".py",
   "mimetype": "text/x-python",
   "name": "python",
   "nbconvert_exporter": "python",
   "pygments_lexer": "ipython2",
   "version": "2.7.13"
  }
 },
 "nbformat": 4,
 "nbformat_minor": 2
}
