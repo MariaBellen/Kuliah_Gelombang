{
 "cells": [
  {
   "cell_type": "markdown",
   "metadata": {},
   "source": [
    "# Beberapa konsep matematika\n",
    "## (yang mendukung materi gelombang)\n",
    "\n",
    "Dalam kuliah minggu ke 3 ini akan diulang lagi beberapa konsep matematika yang nantinya berguna untuk memodelkan fenomena gelombang serta memecahkan permasalahan gelombang, yaitu deret Taylor dan Variabel kompleks.\n",
    "\n",
    "Learning outcome dari kuliah ini adalah mahasiswa mampu menderetkan sebuah fungsi dengan pendekatan Taylor, serta memahami penggunaan varibel kompleks untuk menyatakan fungsi harmonik, sinus dan cosinus.\n",
    "\n",
    "## Ekspansi deret Taylor\n",
    "\n",
    "Sembarang fungsi $f(x)$ dapat diekspansikan ke dalam deret pangkat dalam x sebagai\n",
    "\n",
    "<div><center>$f(x)=f(a)+f'(a)(x-a)+\\frac{f''(a)}{2!}(x-a)^2+..+\\frac{f^n(a)}{n!}(x-a)^n$</center></div>\n",
    "\n",
    "dengan $a$ adalah sembarang nilai dalam x dan $f^n(a)$ adalah turunan ke-$n$ dari $f(x)$ yang dihitung pada $x=a$.\n",
    "\n",
    "Sebagai teladan, mari kita lihat jika fungsi yang akan kita tinjau adalah $\\sin$  $x$, maka berdasarkan persamaan diatas didapat\n",
    "<div><center>$ \\sin x = \\sin (a)+\\cos (a)(x-a)-\\frac{\\sin a}{2!}(x-a)^2 -\\frac{\\cos a}{3!}(x-a)^3$</center><div>\n",
    "\n",
    "Jika kita memilih $a=0$, didapatkan\n",
    "<div><center>$ \\sin x = x-\\frac{1}{3!}(x)^3+\\frac{1}{5!}(x)^5-\\frac{1}{7!}(x)^7+...$</center><div>\n",
    "\n",
    "<div></div>\n",
    "Dengan Python kita dapat membuktikan kehebatan deret Taylor tsb "
   ]
  },
  {
   "cell_type": "code",
   "execution_count": 32,
   "metadata": {},
   "outputs": [],
   "source": [
    "from math import *"
   ]
  },
  {
   "cell_type": "code",
   "execution_count": 29,
   "metadata": {},
   "outputs": [],
   "source": [
    "eksak = sin(0.5)"
   ]
  },
  {
   "cell_type": "code",
   "execution_count": 30,
   "metadata": {},
   "outputs": [],
   "source": [
    "pendekatan_Taylor = 0.5-0.5**3/factorial(3)+0.5**5/factorial(5)-0.5**7/factorial(7)"
   ]
  },
  {
   "cell_type": "code",
   "execution_count": 31,
   "metadata": {},
   "outputs": [
    {
     "name": "stdout",
     "output_type": "stream",
     "text": [
      " Solusi eksak  0.479425538604\n",
      " Pendekatan    0.479425533234\n"
     ]
    }
   ],
   "source": [
    "print \" Solusi eksak \", eksak\n",
    "print \" Pendekatan   \", pendekatan_Taylor"
   ]
  },
  {
   "cell_type": "markdown",
   "metadata": {},
   "source": [
    "Salah satu kasus khusus adalah deret Binomial sebagai berikut\n",
    "<div><center>$(1+x)^n=1 + nx + \\frac{n(n-1)}{2!}x^2+\\frac{n(n-1)(n-2)}{3!}x^3$</center></div>"
   ]
  },
  {
   "cell_type": "markdown",
   "metadata": {},
   "source": [
    "## Variabel Kompleks\n",
    "\n",
    "![kartun_kompleks](http://mathforum.org/kb/servlet/JiveServlet/download/338-849074-2564534-147710/frank1.jpg)\n",
    "\n",
    "Pada bagian ini, satu hal yang harus diingat bahwa terdapat rumus Euler, \n",
    "<div><center>$e^{i\\theta}=\\cos \\theta+ i \\sin \\theta$</center></div>"
   ]
  },
  {
   "cell_type": "code",
   "execution_count": 55,
   "metadata": {},
   "outputs": [
    {
     "data": {
      "text/plain": [
       "(0.479425538604203+0j)"
      ]
     },
     "execution_count": 55,
     "metadata": {},
     "output_type": "execute_result"
    }
   ],
   "source": [
    "import cmath\n",
    "(cmath.exp(0.5j)-cmath.exp(-0.5j))/2j"
   ]
  },
  {
   "cell_type": "code",
   "execution_count": 67,
   "metadata": {},
   "outputs": [
    {
     "data": {
      "text/plain": [
       "(0.7071067811865476+0.7071067811865475j)"
      ]
     },
     "execution_count": 67,
     "metadata": {},
     "output_type": "execute_result"
    }
   ],
   "source": [
    "cmath.sqrt(complex(0,1))"
   ]
  },
  {
   "cell_type": "code",
   "execution_count": 69,
   "metadata": {},
   "outputs": [
    {
     "data": {
      "text/plain": [
       "0.7071067811865476"
      ]
     },
     "execution_count": 69,
     "metadata": {},
     "output_type": "execute_result"
    }
   ],
   "source": [
    "1./2*sqrt(2)"
   ]
  },
  {
   "cell_type": "code",
   "execution_count": null,
   "metadata": {},
   "outputs": [],
   "source": []
  }
 ],
 "metadata": {
  "kernelspec": {
   "display_name": "Python 2",
   "language": "python",
   "name": "python2"
  },
  "language_info": {
   "codemirror_mode": {
    "name": "ipython",
    "version": 2
   },
   "file_extension": ".py",
   "mimetype": "text/x-python",
   "name": "python",
   "nbconvert_exporter": "python",
   "pygments_lexer": "ipython2",
   "version": "2.7.13"
  }
 },
 "nbformat": 4,
 "nbformat_minor": 2
}
